{
 "cells": [
  {
   "cell_type": "code",
   "execution_count": 2,
   "id": "9a60ec9e-a805-4ecd-957c-6e3697731a1c",
   "metadata": {
    "execution": {
     "iopub.execute_input": "2024-06-19T02:04:33.712904Z",
     "iopub.status.busy": "2024-06-19T02:04:33.712541Z",
     "iopub.status.idle": "2024-06-19T02:04:33.716276Z",
     "shell.execute_reply": "2024-06-19T02:04:33.715845Z",
     "shell.execute_reply.started": "2024-06-19T02:04:33.712883Z"
    },
    "tags": []
   },
   "outputs": [],
   "source": [
    "# !pip install scine-molassembler\n",
    "import numpy as np\n",
    "import hpc_env\n",
    "hpc_env.lmod.use(\"/usr/prog/cadd/modules\")\n",
    "hpc_env.lmod.load(\"molpipe\")\n",
    "hpc_env.lmod.load(\"OpenEye\")\n",
    "hpc_env.lmod.load(\"xtb\")\n",
    "import molpipe\n",
    "# from rdkit.Chem.PandasTools import LoadSDF\n",
    "import pandas as pd\n",
    "from rdkit import Chem\n",
    "# from ppqm import jupyter as ppqm_jupyter\n",
    "import tempfile\n",
    "import os\n",
    "# import nglview as nv\n",
    "# import scine_molassembler as masm\n",
    "import subprocess\n",
    "home = os.environ[\"HOME\"]"
   ]
  },
  {
   "cell_type": "code",
   "execution_count": 4,
   "id": "c5c02a9e-19ac-4781-b4f2-aeb06e30a6c1",
   "metadata": {
    "execution": {
     "iopub.execute_input": "2024-06-19T03:00:08.800321Z",
     "iopub.status.busy": "2024-06-19T03:00:08.800001Z",
     "iopub.status.idle": "2024-06-19T03:00:08.808558Z",
     "shell.execute_reply": "2024-06-19T03:00:08.808207Z",
     "shell.execute_reply.started": "2024-06-19T03:00:08.800305Z"
    },
    "tags": []
   },
   "outputs": [
    {
     "data": {
      "text/html": [
       "<div>\n",
       "<style scoped>\n",
       "    .dataframe tbody tr th:only-of-type {\n",
       "        vertical-align: middle;\n",
       "    }\n",
       "\n",
       "    .dataframe tbody tr th {\n",
       "        vertical-align: top;\n",
       "    }\n",
       "\n",
       "    .dataframe thead th {\n",
       "        text-align: right;\n",
       "    }\n",
       "</style>\n",
       "<table border=\"1\" class=\"dataframe\">\n",
       "  <thead>\n",
       "    <tr style=\"text-align: right;\">\n",
       "      <th></th>\n",
       "      <th>Name</th>\n",
       "      <th>Smiles_Code</th>\n",
       "    </tr>\n",
       "  </thead>\n",
       "  <tbody>\n",
       "    <tr>\n",
       "      <th>0</th>\n",
       "      <td>L32</td>\n",
       "      <td>O=C(NN1C(C=CC=C2)=C2C3=C1C(C)=CC(C)=C3)C4=NC(O...</td>\n",
       "    </tr>\n",
       "    <tr>\n",
       "      <th>1</th>\n",
       "      <td>L33</td>\n",
       "      <td>O=C(NN1C(C(C)=CC=C2)=C2C3=C1C(C)=CC=C3)C4=NC(O...</td>\n",
       "    </tr>\n",
       "    <tr>\n",
       "      <th>2</th>\n",
       "      <td>L34</td>\n",
       "      <td>O=C(NN1C(C=CC=C2)=C2C3=C1C(OC)=CC=C3)C4=NC(O)=...</td>\n",
       "    </tr>\n",
       "    <tr>\n",
       "      <th>3</th>\n",
       "      <td>L35</td>\n",
       "      <td>O=C(NN1C(C=CC=C2)=C2C3=C1C(CC)=CC=C3)C4=NC(O)=...</td>\n",
       "    </tr>\n",
       "    <tr>\n",
       "      <th>4</th>\n",
       "      <td>L36</td>\n",
       "      <td>O=C(NN1C(C=CC=C2)=C2C3=C1C(Br)=CC=C3)C4=NC(O)=...</td>\n",
       "    </tr>\n",
       "  </tbody>\n",
       "</table>\n",
       "</div>"
      ],
      "text/plain": [
       "  Name                                        Smiles_Code\n",
       "0  L32  O=C(NN1C(C=CC=C2)=C2C3=C1C(C)=CC(C)=C3)C4=NC(O...\n",
       "1  L33  O=C(NN1C(C(C)=CC=C2)=C2C3=C1C(C)=CC=C3)C4=NC(O...\n",
       "2  L34  O=C(NN1C(C=CC=C2)=C2C3=C1C(OC)=CC=C3)C4=NC(O)=...\n",
       "3  L35  O=C(NN1C(C=CC=C2)=C2C3=C1C(CC)=CC=C3)C4=NC(O)=...\n",
       "4  L36  O=C(NN1C(C=CC=C2)=C2C3=C1C(Br)=CC=C3)C4=NC(O)=..."
      ]
     },
     "execution_count": 4,
     "metadata": {},
     "output_type": "execute_result"
    }
   ],
   "source": [
    "molecules_table = pd.read_csv('/home/zhuji2q/Cu-Catalyzed-Ligands-Design/Data/Paper_Unsynthesized-Ligands.csv')\n",
    "molecules_table.head()"
   ]
  },
  {
   "cell_type": "code",
   "execution_count": 6,
   "id": "db0d7995-04a3-438e-9f1b-e86b409443d4",
   "metadata": {
    "execution": {
     "iopub.execute_input": "2024-06-19T05:39:02.924941Z",
     "iopub.status.busy": "2024-06-19T05:39:02.924603Z",
     "iopub.status.idle": "2024-06-19T05:39:02.934847Z",
     "shell.execute_reply": "2024-06-19T05:39:02.934439Z",
     "shell.execute_reply.started": "2024-06-19T05:39:02.924923Z"
    },
    "tags": []
   },
   "outputs": [],
   "source": [
    "##generate canonical smiles for all interested ligands\n",
    "cano_smi = []\n",
    "for i in molecules_table.Smiles_Code:\n",
    "    s = Chem.MolFromSmiles(i)\n",
    "    new_i = Chem.MolToSmiles(s)\n",
    "    cano_smi.append(new_i)"
   ]
  },
  {
   "cell_type": "code",
   "execution_count": 9,
   "id": "40bda871-14e1-45e5-91ac-296644b018f2",
   "metadata": {
    "execution": {
     "iopub.execute_input": "2024-06-19T05:40:01.820685Z",
     "iopub.status.busy": "2024-06-19T05:40:01.820336Z",
     "iopub.status.idle": "2024-06-19T05:40:01.833214Z",
     "shell.execute_reply": "2024-06-19T05:40:01.832796Z",
     "shell.execute_reply.started": "2024-06-19T05:40:01.820665Z"
    },
    "tags": []
   },
   "outputs": [
    {
     "name": "stdout",
     "output_type": "stream",
     "text": [
      "((24, 18, 16, 17, 15),)\n",
      "((23, 17, 15, 16, 14),)\n",
      "((23, 17, 15, 16, 14),)\n",
      "((23, 17, 15, 16, 14),)\n",
      "((23, 17, 1, 0, 2),)\n",
      "((26, 20, 1, 0, 2),)\n",
      "((23, 17, 1, 0, 2),)\n",
      "((24, 18, 1, 0, 2),)\n",
      "((22, 16, 14, 15, 13),)\n",
      "((23, 17, 1, 0, 2),)\n",
      "((28, 22, 20, 21, 19),)\n",
      "((23, 17, 1, 0, 2),)\n",
      "((19, 13, 11, 12, 10),)\n",
      "((26, 16, 1, 0, 2),)\n",
      "((6, 7, 8, 9, 10),)\n",
      "((22, 5, 6, 7, 8),)\n",
      "((6, 7, 8, 9, 10),)\n",
      "((24, 5, 6, 7, 8),)\n",
      "((24, 18, 16, 17, 15),)\n",
      "((22, 16, 14, 15, 13),)\n",
      "((28, 22, 20, 21, 19),)\n",
      "((24, 18, 16, 17, 15),)\n",
      "((22, 16, 14, 15, 13),)\n",
      "((28, 22, 20, 21, 19),)\n",
      "((24, 18, 16, 17, 15),)\n",
      "((26, 20, 18, 19, 17),)\n"
     ]
    }
   ],
   "source": [
    "#find the interested pattern in the ligands molecule\n",
    "cp_query = Chem.MolFromSmarts(\"NCC(=O)N\")\n",
    "for i in cano_smi:\n",
    "    s = Chem.MolFromSmiles(i)\n",
    "    m = Chem.MolToSmarts(s)\n",
    "    q = Chem.MolFromSmarts(m)\n",
    "    cp_matches_1 = q.GetSubstructMatches(cp_query)\n",
    "    if len(cp_matches_1) > 0:\n",
    "        print(cp_matches_1)\n",
    "        continue\n",
    "    else:\n",
    "        print(i)"
   ]
  },
  {
   "cell_type": "code",
   "execution_count": 10,
   "id": "0ff265d3-64bf-489d-ae2b-17eaf513620f",
   "metadata": {
    "execution": {
     "iopub.execute_input": "2024-06-19T05:41:32.180379Z",
     "iopub.status.busy": "2024-06-19T05:41:32.180085Z",
     "iopub.status.idle": "2024-06-19T05:41:32.185909Z",
     "shell.execute_reply": "2024-06-19T05:41:32.185498Z",
     "shell.execute_reply.started": "2024-06-19T05:41:32.180361Z"
    },
    "tags": []
   },
   "outputs": [],
   "source": [
    "#find Nitrogen Atom\n",
    "def is_N(atom):\n",
    "    anum = atom.GetAtomicNum()\n",
    "    return anum == 7\n",
    "\n",
    "#Adding Copper atom to ligands to form a catalyst complex\n",
    "def mol_transform(target_mol):\n",
    "    cp_query = Chem.MolFromSmarts(\"NCC(=O)N\")\n",
    "    mol_1 = Chem.MolFromSmiles(target_mol)\n",
    "    smarts = Chem.MolToSmarts(mol_1)\n",
    "    mol_2 = Chem.MolFromSmarts(smarts)\n",
    "    cp_matches = mol_2.GetSubstructMatches(cp_query)\n",
    "\n",
    "    metal = [atom for atom in  mol_2.GetAtoms() if atom.GetAtomicNum() == 29]\n",
    "    metal_idx = metal[0].GetIdx()\n",
    "    print(metal[0])\n",
    "    # metal_atom = target_mol.GetAtomWithIdx(metal_idx)\n",
    "    metal[0].SetFormalCharge(2)\n",
    "    # N_list = [x.GetIdx() for x in  metal[0].GetNeighbors()]\n",
    "    print(cp_matches[0])\n",
    "    # print(N_list)\n",
    "    N1 =  mol_2.GetAtomWithIdx(cp_matches[0][0])\n",
    "    N2 =  mol_2.GetAtomWithIdx(cp_matches[0][-1])\n",
    "    # last_atom.SetFormalCharge(-1)\n",
    "    # last_atom.SetNumExplicitHs(1)\n",
    "    N1.SetFormalCharge(-1)\n",
    "    N1.SetNumExplicitHs(0)\n",
    "    N2.SetFormalCharge(-1)\n",
    "    N2.SetNumExplicitHs(0)\n",
    "    Chem.SanitizeMol(mol_2)\n",
    "    Chem.Kekulize(mol_2, True)\n",
    "    mol_2_bonded = Chem.RWMol(mol_2)\n",
    "    metal_atom = mol_2_bonded.GetAtomWithIdx(metal_idx)\n",
    "    mol_2_bonded.AddBond(metal_idx,cp_matches[0][0], Chem.BondType.SINGLE)\n",
    "    mol_2_bonded.AddBond(metal_idx, cp_matches[0][-1], Chem.BondType.SINGLE)\n",
    "    masm_smiles = Chem.MolToSmiles(mol_2_bonded)\n",
    "    return masm_smiles"
   ]
  },
  {
   "cell_type": "code",
   "execution_count": 11,
   "id": "bf8b695d-fa9c-4993-85ce-f1dab490cbb7",
   "metadata": {
    "execution": {
     "iopub.execute_input": "2024-06-19T05:41:38.313407Z",
     "iopub.status.busy": "2024-06-19T05:41:38.313210Z",
     "iopub.status.idle": "2024-06-19T05:41:38.335146Z",
     "shell.execute_reply": "2024-06-19T05:41:38.334798Z",
     "shell.execute_reply.started": "2024-06-19T05:41:38.313395Z"
    },
    "tags": []
   },
   "outputs": [
    {
     "name": "stdout",
     "output_type": "stream",
     "text": [
      "<rdkit.Chem.rdchem.QueryAtom object at 0x2ab6f311e490>\n",
      "(24, 18, 16, 17, 15)\n",
      "<rdkit.Chem.rdchem.QueryAtom object at 0x2ab6f311e490>\n",
      "(23, 17, 15, 16, 14)\n",
      "<rdkit.Chem.rdchem.QueryAtom object at 0x2ab6f311e500>\n",
      "(23, 17, 15, 16, 14)\n",
      "<rdkit.Chem.rdchem.QueryAtom object at 0x2ab6f311e340>\n",
      "(23, 17, 15, 16, 14)\n",
      "<rdkit.Chem.rdchem.QueryAtom object at 0x2ab6f311e340>\n",
      "(23, 17, 1, 0, 2)\n",
      "<rdkit.Chem.rdchem.QueryAtom object at 0x2ab6f311e650>\n",
      "(26, 20, 1, 0, 2)\n",
      "<rdkit.Chem.rdchem.QueryAtom object at 0x2ab6f311dd90>\n",
      "(23, 17, 1, 0, 2)\n",
      "<rdkit.Chem.rdchem.QueryAtom object at 0x2ab6f311e6c0>\n",
      "(24, 18, 1, 0, 2)\n",
      "<rdkit.Chem.rdchem.QueryAtom object at 0x2ab6f311e6c0>\n",
      "(22, 16, 14, 15, 13)\n",
      "<rdkit.Chem.rdchem.QueryAtom object at 0x2ab6f311e6c0>\n",
      "(23, 17, 1, 0, 2)\n",
      "<rdkit.Chem.rdchem.QueryAtom object at 0x2ab6f311e2d0>\n",
      "(28, 22, 20, 21, 19)\n",
      "<rdkit.Chem.rdchem.QueryAtom object at 0x2ab6f311e7a0>\n",
      "(23, 17, 1, 0, 2)\n",
      "<rdkit.Chem.rdchem.QueryAtom object at 0x2ab6f311e880>\n",
      "(19, 13, 11, 12, 10)\n",
      "<rdkit.Chem.rdchem.QueryAtom object at 0x2ab6f311e880>\n",
      "(26, 16, 1, 0, 2)\n",
      "<rdkit.Chem.rdchem.QueryAtom object at 0x2ab6f311eab0>\n",
      "(6, 7, 8, 9, 10)\n",
      "<rdkit.Chem.rdchem.QueryAtom object at 0x2ab6f311e9d0>\n",
      "(22, 5, 6, 7, 8)\n",
      "<rdkit.Chem.rdchem.QueryAtom object at 0x2ab6f311eb20>\n",
      "(6, 7, 8, 9, 10)\n",
      "<rdkit.Chem.rdchem.QueryAtom object at 0x2ab6f311ea40>\n",
      "(24, 5, 6, 7, 8)\n",
      "<rdkit.Chem.rdchem.QueryAtom object at 0x2ab6f311ea40>\n",
      "(24, 18, 16, 17, 15)\n",
      "<rdkit.Chem.rdchem.QueryAtom object at 0x2ab6f311ece0>\n",
      "(22, 16, 14, 15, 13)\n",
      "<rdkit.Chem.rdchem.QueryAtom object at 0x2ab6f311eb90>\n",
      "(28, 22, 20, 21, 19)\n",
      "<rdkit.Chem.rdchem.QueryAtom object at 0x2ab6f311eb90>\n",
      "(24, 18, 16, 17, 15)\n",
      "<rdkit.Chem.rdchem.QueryAtom object at 0x2ab6f311ee30>\n",
      "(22, 16, 14, 15, 13)\n",
      "<rdkit.Chem.rdchem.QueryAtom object at 0x2ab6f311ec70>\n",
      "(28, 22, 20, 21, 19)\n",
      "<rdkit.Chem.rdchem.QueryAtom object at 0x2ab6f311edc0>\n",
      "(24, 18, 16, 17, 15)\n",
      "<rdkit.Chem.rdchem.QueryAtom object at 0x2ab6f311ef10>\n",
      "(26, 20, 18, 19, 17)\n"
     ]
    },
    {
     "data": {
      "text/plain": [
       "26"
      ]
     },
     "execution_count": 11,
     "metadata": {},
     "output_type": "execute_result"
    }
   ],
   "source": [
    "masm_list=[]\n",
    "for k,i in enumerate(cano_smi):\n",
    "    test_smile = i + '.[Cu]'\n",
    "    masm_smiles = mol_transform(test_smile)\n",
    "    masm_list.append(masm_smiles)\n",
    "len(masm_list)"
   ]
  },
  {
   "cell_type": "code",
   "execution_count": null,
   "id": "9c77c03b-cc3d-4b3f-b6ac-5001aea15a7b",
   "metadata": {
    "execution": {
     "iopub.execute_input": "2023-03-14T02:26:39.011423Z",
     "iopub.status.busy": "2023-03-14T02:26:39.011044Z",
     "iopub.status.idle": "2023-03-14T02:30:35.996166Z",
     "shell.execute_reply": "2023-03-14T02:30:35.995495Z",
     "shell.execute_reply.started": "2023-03-14T02:26:39.011402Z"
    },
    "tags": []
   },
   "outputs": [],
   "source": [
    "# Generate sdf initial files for the ligands\n",
    "names = molecules_table['Name']\n",
    "f_list = ['initial']\n",
    "while len(f_list) > 0:\n",
    "    f_list =[]\n",
    "    for k, i in enumerate(masm_list):\n",
    "        try:\n",
    "            masm_mol = masm.io.experimental.from_smiles(i)\n",
    "            masm_conf = masm.dg.generate_random_conformation(masm_mol)\n",
    "            with tempfile.NamedTemporaryFile(suffix=\".mol\") as f:\n",
    "                masm.io.write(f.name, masm_mol, masm_conf)\n",
    "                f.flush()\n",
    "                f.seek(0)\n",
    "                molblock = f.read().decode(\"utf-8\")\n",
    "            masm_raw_mol = Chem.MolFromMolBlock(molblock, sanitize=False)\n",
    "        except:\n",
    "            f_list.append('false')\n",
    "            # print('false')\n",
    "        with Chem.SDWriter(f\"{home}/Cu-Catalyzed-ligands-Design/Molecular_Generation/SIOC_Ligands_Jan18_L53_2023/masm_conf_{names[k]}.sdf\") as w:\n",
    "            masm_raw_mol.SetProp(\"_Name\",f\"{names[k]}\")\n",
    "            w.write(masm_raw_mol)\n"
   ]
  },
  {
   "cell_type": "code",
   "execution_count": null,
   "id": "5e33d818-3d50-486e-9a5b-1fe873bce0b0",
   "metadata": {
    "execution": {
     "iopub.execute_input": "2023-03-14T02:41:53.010122Z",
     "iopub.status.busy": "2023-03-14T02:41:53.009758Z",
     "iopub.status.idle": "2023-03-14T02:43:00.726304Z",
     "shell.execute_reply": "2023-03-14T02:43:00.725411Z",
     "shell.execute_reply.started": "2023-03-14T02:41:53.010102Z"
    },
    "tags": []
   },
   "outputs": [],
   "source": [
    "# list = [23,35,45,54,55,56,58,59,60,61,62,63,64,65,66,68,69,70,71,72,73,74,75,76,77,78,79]\n",
    "for i in names:\n",
    "    path_1 = f\"{home}/Cu-Catalyzed-ligands-Design/Molecular_Generation/SIOC_Ligands_Jan18_L53_2023/masm_conf_{i}.sdf\"\n",
    "    path_2 = f\"{home}/Cu-Catalyzed-ligands-Design/Molecular_Generation/SIOC_Ligands_Jan18_L53_2023/masm_conf_xtb_{i}\"\n",
    "    path_3 = f\"{home}/Cu-Catalyzed-ligands-Design/Molecular_Generation/SIOC_Ligands_Jan18_L53_2023/masm_conf_xtb_{i}.out\"\n",
    "    path_4 = f\"{home}/Cu-Catalyzed-ligands-Design/Molecular_Generation/SIOC_Ligands_Jan18_L53_2023/masm_conf_xtb_{i}.error\"\n",
    "    !xtb {path_1} --opt --namespace {path_2} > {path_3} 2> {path_4}"
   ]
  },
  {
   "cell_type": "code",
   "execution_count": null,
   "id": "72cc37bc-0265-41ab-b9a6-982fd0921d6e",
   "metadata": {
    "execution": {
     "iopub.execute_input": "2023-03-14T02:45:17.062622Z",
     "iopub.status.busy": "2023-03-14T02:45:17.062146Z",
     "iopub.status.idle": "2023-03-14T02:45:17.067438Z",
     "shell.execute_reply": "2023-03-14T02:45:17.066979Z",
     "shell.execute_reply.started": "2023-03-14T02:45:17.062597Z"
    },
    "tags": []
   },
   "outputs": [],
   "source": [
    "import logging\n",
    "import os\n",
    "from pathlib import Path\n",
    "\n",
    "from functools import lru_cache, partial\n",
    "\n",
    "\n",
    "open_utf8 = partial(open, encoding=\"utf-8\")\n",
    "\n",
    "def merge_sdf_files(dir: Path, output_file: Path):\n",
    "    sdf_files = sorted(\n",
    "        [dir + file for file in os.listdir(dir) if file.endswith(\".xtbopt.sdf\")])\n",
    "\n",
    "    _logger.info(f\"Found {len(sdf_files)} sdf files. Merging...\")\n",
    "\n",
    "    with open_utf8(output_file, \"w\") as out_sdf:\n",
    "        for sdf_file in sdf_files:\n",
    "            with open_utf8(sdf_file, \"r\") as sdf_in:\n",
    "                out_sdf.write(sdf_in.read())\n",
    "dir = f'{home}/Cu-Catalyzed-ligands-Design/Molecular_Generation/SIOC_Ligands_Jan18_L53_2023/'               \n",
    "_logger = logging.getLogger(__name__)"
   ]
  },
  {
   "cell_type": "code",
   "execution_count": null,
   "id": "632378d0-2dd9-4285-bad9-785c22d03787",
   "metadata": {
    "execution": {
     "iopub.execute_input": "2023-03-14T02:45:28.609598Z",
     "iopub.status.busy": "2023-03-14T02:45:28.609233Z",
     "iopub.status.idle": "2023-03-14T02:45:28.624782Z",
     "shell.execute_reply": "2023-03-14T02:45:28.624417Z",
     "shell.execute_reply.started": "2023-03-14T02:45:28.609578Z"
    },
    "tags": []
   },
   "outputs": [],
   "source": [
    "merge_sdf_files(dir, 'SIOC_ligands_Jan18_L53.sdf')"
   ]
  },
  {
   "cell_type": "code",
   "execution_count": null,
   "id": "fda2ff1f-23f8-46b4-9945-0451ee79d3b0",
   "metadata": {
    "execution": {
     "iopub.execute_input": "2023-03-14T02:46:05.534373Z",
     "iopub.status.busy": "2023-03-14T02:46:05.534017Z",
     "iopub.status.idle": "2023-03-14T02:46:23.636560Z",
     "shell.execute_reply": "2023-03-14T02:46:23.635959Z",
     "shell.execute_reply.started": "2023-03-14T02:46:05.534354Z"
    },
    "tags": []
   },
   "outputs": [],
   "source": [
    "import molpipe\n",
    "suppl = Chem.SDMolSupplier('SIOC_ligands_Jan18_L53.sdf')\n",
    "new_df = pd.DataFrame()\n",
    "for mol in suppl:\n",
    "    print(mol.GetProp(\"_Name\"))\n",
    "    cp_query = Chem.MolFromSmarts(\"[Cu]\")\n",
    "    # print(cp_query)\n",
    "    cp_matches = mol.GetSubstructMatches(cp_query)\n",
    "    print(cp_matches)\n",
    "    rows_xtb = molpipe.pipe.get_all_properties_xtb(mol)\n",
    "    pdf = pd.DataFrame(rows_xtb)\n",
    "    pdf['Name'] = mol.GetProp(\"_Name\")\n",
    "    pdf['Cu_index'] = cp_matches[0][0]\n",
    "    new_df = pd.concat([new_df,pdf])\n",
    "    # pdf['Index']= str(vector)"
   ]
  },
  {
   "cell_type": "code",
   "execution_count": null,
   "id": "741f6bc2-415d-4207-8a00-47ab82eb7c0f",
   "metadata": {
    "execution": {
     "iopub.execute_input": "2023-03-14T02:46:46.013424Z",
     "iopub.status.busy": "2023-03-14T02:46:46.013007Z",
     "iopub.status.idle": "2023-03-14T02:46:46.264377Z",
     "shell.execute_reply": "2023-03-14T02:46:46.263999Z",
     "shell.execute_reply.started": "2023-03-14T02:46:46.013399Z"
    },
    "tags": []
   },
   "outputs": [],
   "source": [
    "new_df"
   ]
  },
  {
   "cell_type": "code",
   "execution_count": null,
   "id": "ea283987-8320-4ded-96f9-cc7e2906f16b",
   "metadata": {
    "execution": {
     "iopub.execute_input": "2023-03-14T02:47:08.599054Z",
     "iopub.status.busy": "2023-03-14T02:47:08.598682Z",
     "iopub.status.idle": "2023-03-14T02:47:08.627824Z",
     "shell.execute_reply": "2023-03-14T02:47:08.627460Z",
     "shell.execute_reply.started": "2023-03-14T02:47:08.599032Z"
    },
    "tags": []
   },
   "outputs": [],
   "source": [
    "new_df.to_csv('Add_metal_xtb_property.csv')"
   ]
  },
  {
   "cell_type": "code",
   "execution_count": null,
   "id": "ca692e57-01d6-4bd2-b3c0-f8b92ef42a9b",
   "metadata": {
    "execution": {
     "iopub.execute_input": "2023-03-14T02:47:09.581857Z",
     "iopub.status.busy": "2023-03-14T02:47:09.581348Z",
     "iopub.status.idle": "2023-03-14T02:47:09.584768Z",
     "shell.execute_reply": "2023-03-14T02:47:09.584452Z",
     "shell.execute_reply.started": "2023-03-14T02:47:09.581837Z"
    },
    "tags": []
   },
   "outputs": [],
   "source": [
    "new_df.columns"
   ]
  },
  {
   "cell_type": "code",
   "execution_count": null,
   "id": "3aff190b-1025-4235-83b8-9793fa1f6c3a",
   "metadata": {
    "execution": {
     "iopub.execute_input": "2023-03-14T02:47:15.370581Z",
     "iopub.status.busy": "2023-03-14T02:47:15.370204Z",
     "iopub.status.idle": "2023-03-14T02:47:17.010104Z",
     "shell.execute_reply": "2023-03-14T02:47:17.009666Z",
     "shell.execute_reply.started": "2023-03-14T02:47:15.370559Z"
    },
    "tags": []
   },
   "outputs": [],
   "source": [
    "list_p = ['h2o_covCN', 'h2o_alpha','h2o_mulliken_charges', 'h2o_f_plus', 'h2o_f_minus', 'h2o_f_zero']\n",
    "for i in list_p:\n",
    "    for k in range(len(new_df)):\n",
    "        new_df[i].iloc[k] = new_df[i].iloc[k][int(new_df['Cu_index'].iloc[k])]"
   ]
  },
  {
   "cell_type": "code",
   "execution_count": null,
   "id": "86ca9014-164a-411c-b13a-d927cbcf1214",
   "metadata": {
    "execution": {
     "iopub.execute_input": "2023-03-14T02:47:28.113118Z",
     "iopub.status.busy": "2023-03-14T02:47:28.112735Z",
     "iopub.status.idle": "2023-03-14T02:47:28.121170Z",
     "shell.execute_reply": "2023-03-14T02:47:28.120813Z",
     "shell.execute_reply.started": "2023-03-14T02:47:28.113095Z"
    },
    "tags": []
   },
   "outputs": [],
   "source": [
    "new_df.to_csv('Add_metal_xtb_property_Cu.csv')"
   ]
  },
  {
   "cell_type": "markdown",
   "id": "0a627172-4a26-4717-90da-e27748ba04d1",
   "metadata": {},
   "source": [
    "# Generate Steric Features: Buried Volume and BiteAngle"
   ]
  },
  {
   "cell_type": "code",
   "execution_count": null,
   "id": "5164257d-db2f-4bc8-822b-a0004bddae63",
   "metadata": {
    "execution": {
     "iopub.execute_input": "2023-03-14T02:48:03.394647Z",
     "iopub.status.busy": "2023-03-14T02:48:03.394253Z",
     "iopub.status.idle": "2023-03-14T02:48:04.171970Z",
     "shell.execute_reply": "2023-03-14T02:48:04.171561Z",
     "shell.execute_reply.started": "2023-03-14T02:48:03.394627Z"
    },
    "tags": []
   },
   "outputs": [],
   "source": [
    "from morfeus import BuriedVolume, BiteAngle,read_xyz\n",
    "\n",
    "\n",
    "# directory = f\"{home}/Ma_DaWei/Molecular_Generation/sdf_creation\"\n",
    "# x = 1\n",
    "# # iterate over files in\n",
    "# # that directory\n",
    "# for filename in os.listdir(directory):\n",
    "#     f = os.path.join(directory, filename)\n",
    "#     # checking if it is a file\n",
    "#     if f.endswith(\"xtbopt.sdf\"):\n",
    "#         masm_opt_mol = Chem.MolFromMolFile(f, sanitize=False)\n",
    "#         index = get_numbers_from_filename(filename)\n",
    "#         Chem.rdmolfiles.MolToXYZFile(masm_opt_mol,f\"{home}/Ma_DaWei/Molecular_Generation/xyz_file/masm_opt_{index}.xyz\")\n",
    "\n",
    "\n",
    "##Check if the atom is metal atom based on Atomic Number\n",
    "def is_metal(atom):\n",
    "    anum = atom.GetAtomicNum()\n",
    "    print(anum)\n",
    "    return ((anum >= 3 and anum <=4) or\n",
    "            (anum >= 11 and anum <= 13) or\n",
    "            (anum >= 19 and anum <= 31) or\n",
    "            (anum >= 37 and anum <= 50) or\n",
    "            (anum >= 55 and anum <= 83) or\n",
    "            (anum >= 87 and anum <= 103))\n",
    "\n",
    "\n",
    "# Buriedvolume and biteangle calcualtion\n",
    "def buried_vol_cal(f,idx):\n",
    "    elements, coordinates = read_xyz(f)\n",
    "    bv = BuriedVolume(elements, coordinates, idx) # idx, metal index\n",
    "    return bv.fraction_buried_volume\n",
    "def bite_angle_cal(f,idx,idx_list):\n",
    "    elements, coordinates = read_xyz(f)\n",
    "    bv = BiteAngle(coordinates, idx,idx_list[0],idx_list[1]) # idx_list, atom index connected to the metal center\n",
    "    return bv.angle\n",
    "\n",
    "\n",
    "# Show molecule with atom index\n",
    "def mol_with_atom_index(mol):\n",
    "    for atom in mol.GetAtoms():\n",
    "        atom.SetAtomMapNum(atom.GetIdx())\n",
    "    return mol"
   ]
  },
  {
   "cell_type": "code",
   "execution_count": null,
   "id": "7d3cb19a-a39b-4f0d-9a8f-134b6c6d410e",
   "metadata": {
    "execution": {
     "iopub.execute_input": "2023-03-14T02:48:12.010911Z",
     "iopub.status.busy": "2023-03-14T02:48:12.010326Z",
     "iopub.status.idle": "2023-03-14T02:48:13.557174Z",
     "shell.execute_reply": "2023-03-14T02:48:13.556725Z",
     "shell.execute_reply.started": "2023-03-14T02:48:12.010888Z"
    },
    "tags": []
   },
   "outputs": [],
   "source": [
    "suppl = Chem.SDMolSupplier('SIOC_ligands_Jan18_L53.sdf')  # Read One Sdf containing all the molecules\n",
    "name = []\n",
    "# smiles = []\n",
    "bv_list = []\n",
    "ba_list = []\n",
    "for mol in suppl:\n",
    "    idx = 0\n",
    "    for atom in mol.GetAtoms():\n",
    "        if atom.GetAtomicNum() == 29: #check if the atom is Cu\n",
    "            idx_list = [x.GetIdx() for x in atom.GetNeighbors()] # neighours index of metal center\n",
    "            # print([x.GetIdx() for x in atom.GetNeighbors()])\n",
    "            # print(idx)\n",
    "        else:\n",
    "            idx += 1 \n",
    "    Chem.rdmolfiles.MolToXYZFile(mol,f\"{home}/SIOC/Molecular_Generation/xyz_file/Temp.xyz\") # Creating Temporary XYZ file for Morfeus Calculation\n",
    "    bv = buried_vol_cal(f\"{home}/SIOC/Molecular_Generation/xyz_file/Temp.xyz\",idx)\n",
    "    ba = bite_angle_cal(f\"{home}/SIOC/Molecular_Generation/xyz_file/Temp.xyz\",idx,idx_list)\n",
    "    bv_list.append(bv)\n",
    "    ba_list.append(ba)\n",
    "        # if s == True:\n",
    "        #     print(s)\n",
    "    # metal_idx = metal[0][0]\n",
    "    # metal_atom = mol.GetAtomWithIdx(metal_idx)\n",
    "    # is_metal(metal_atom)\n",
    "    name.append(mol.GetProp(\"_Name\"))\n",
    "    # smiles.append(Chem.MolToSmiles(mol)) "
   ]
  },
  {
   "cell_type": "code",
   "execution_count": null,
   "id": "b44ed67c-503b-4192-b956-04fd0baf0a4f",
   "metadata": {
    "execution": {
     "iopub.execute_input": "2023-03-14T02:48:13.558199Z",
     "iopub.status.busy": "2023-03-14T02:48:13.557932Z",
     "iopub.status.idle": "2023-03-14T02:48:13.561087Z",
     "shell.execute_reply": "2023-03-14T02:48:13.560775Z",
     "shell.execute_reply.started": "2023-03-14T02:48:13.558180Z"
    },
    "tags": []
   },
   "outputs": [],
   "source": [
    "len(name)"
   ]
  },
  {
   "cell_type": "code",
   "execution_count": null,
   "id": "e0526835-c167-4f54-9dac-9a9906b7082d",
   "metadata": {
    "execution": {
     "iopub.execute_input": "2023-03-14T02:48:58.336850Z",
     "iopub.status.busy": "2023-03-14T02:48:58.336480Z",
     "iopub.status.idle": "2023-03-14T02:48:58.346383Z",
     "shell.execute_reply": "2023-03-14T02:48:58.346022Z",
     "shell.execute_reply.started": "2023-03-14T02:48:58.336829Z"
    },
    "tags": []
   },
   "outputs": [],
   "source": [
    "df = pd.DataFrame()\n",
    "df['id'] = name\n",
    "df['Buried_Vol'] = bv_list\n",
    "df['Bite_Angle'] = ba_list\n",
    "df.to_csv('SIOC_005_steric_des.csv', index= False)"
   ]
  },
  {
   "cell_type": "code",
   "execution_count": null,
   "id": "690e3bd3-3abf-4883-b26a-ee8dc588e87f",
   "metadata": {
    "execution": {
     "iopub.execute_input": "2023-03-14T02:49:07.011135Z",
     "iopub.status.busy": "2023-03-14T02:49:07.010592Z",
     "iopub.status.idle": "2023-03-14T02:49:07.013859Z",
     "shell.execute_reply": "2023-03-14T02:49:07.013532Z",
     "shell.execute_reply.started": "2023-03-14T02:49:07.011114Z"
    },
    "tags": []
   },
   "outputs": [],
   "source": [
    "len(df)"
   ]
  },
  {
   "cell_type": "code",
   "execution_count": null,
   "id": "ebfdb619-f8e4-4f82-a94c-006d14441db0",
   "metadata": {},
   "outputs": [],
   "source": [
    "mol_with_atom_index(suppl[2])"
   ]
  },
  {
   "cell_type": "code",
   "execution_count": null,
   "id": "4aa4d943-8cce-4f5c-9504-d32225b37026",
   "metadata": {
    "execution": {
     "iopub.execute_input": "2023-03-14T02:49:12.455989Z",
     "iopub.status.busy": "2023-03-14T02:49:12.455627Z",
     "iopub.status.idle": "2023-03-14T02:49:12.464176Z",
     "shell.execute_reply": "2023-03-14T02:49:12.463808Z",
     "shell.execute_reply.started": "2023-03-14T02:49:12.455967Z"
    },
    "tags": []
   },
   "outputs": [],
   "source": [
    "df.to_csv('Cu_Ligands.csv', index = False)"
   ]
  },
  {
   "cell_type": "code",
   "execution_count": null,
   "id": "4f4c1b60-47fb-41ac-905b-713e66f77f90",
   "metadata": {},
   "outputs": [],
   "source": []
  }
 ],
 "metadata": {
  "kernelspec": {
   "display_name": "PythonDS v1.4",
   "language": "python",
   "name": "py_v1.4"
  },
  "language_info": {
   "codemirror_mode": {
    "name": "ipython",
    "version": 3
   },
   "file_extension": ".py",
   "mimetype": "text/x-python",
   "name": "python",
   "nbconvert_exporter": "python",
   "pygments_lexer": "ipython3",
   "version": "3.10.13"
  }
 },
 "nbformat": 4,
 "nbformat_minor": 5
}
